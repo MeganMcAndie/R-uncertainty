{
 "cells": [
  {
   "cell_type": "markdown",
   "metadata": {},
   "source": [
    "## Uncertainty in Near-Infrared Reddening"
   ]
  },
  {
   "cell_type": "markdown",
   "metadata": {},
   "source": [
    "Project piece for Megan!"
   ]
  },
  {
   "cell_type": "code",
   "execution_count": 1,
   "metadata": {},
   "outputs": [],
   "source": [
    "import numpy as np\n",
    "from matplotlib import pyplot as plt\n",
    "import scipy.stats as ss"
   ]
  },
  {
   "cell_type": "code",
   "execution_count": 2,
   "metadata": {},
   "outputs": [],
   "source": [
    "%matplotlib inline"
   ]
  },
  {
   "cell_type": "markdown",
   "metadata": {
    "collapsed": true
   },
   "source": [
    "We'll start with the intrinsic colors and spectral types."
   ]
  },
  {
   "cell_type": "code",
   "execution_count": 3,
   "metadata": {},
   "outputs": [],
   "source": [
    "intHK= np.array([-0.1,-0.09,-0.09,-0.09,-0.09,-0.08,-0.09,-0.06,-0.07,-0.05,-0.06,-0.05,-0.05,-0.03,0,0.0025,0.005,0.0083,\n",
    "            0.0117,0.015,0.02,0.025,0.0267,0.0283,0.03,0.0325,0.035,0.0367,0.0383,0.04,0.0425,0.045,0.0467,0.0483,\n",
    "            0.05,0.051,0.052,0.0535,0.055,0.0575,0.06,0.06375,0.0675,0.07125,0.075,0.0825,0.09,0.0975,0.105,0.11,0.12,\n",
    "            0.13,0.14217,0.1533,0.165,0.2,0.21,0.25,0.275,0.32,0.37]) \n",
    "\n",
    "intJH= np.array([-0.065,-0.065,-0.075,-0.095,-0.095,-0.075,-0.025,-0.045,-0.035,-0.045,-0.025,-0.025,-0.005,0.005,0,0.01,\n",
    "            0.02,0.033,0.0467,0.06,0.075,0.09,0.103,0.117,0.13,0.1475,0.165,0.187,0.208,0.23,0.258,0.285,0.292,0.298,\n",
    "            0.305,0.3125,0.32,0.325,0.33,0.35,0.37,0.39,0.41,0.43,0.45,0.475,0.5,0.54,0.58,0.61,0.635,0.66,0.6717,\n",
    "            0.683,0.695,0.68,0.665,0.62,0.6,0.62,0.6])\n",
    "\n",
    "SpType=np.array(['O6V','O7V','O8V','O9V','B0V','B1V','B2V','B3V','B4V','B5V','B6V','B7V','B8V','B9V',\n",
    "            'A0V','A1V','A2V','A3V','A4V','A5V','A6V','A7V','A8V','A9V',\n",
    "            'F0V','F1V','F2V','F3V','F4V','F5V','F6V','F7V','F8V','F9V',\n",
    "            'G0V','G1V','G2V','G3V','G4V','G5V','G6V','G7V','G8V','G9V',\n",
    "            'K0V','K1V','K2V','K3V','K4V','K5V','K6V','K7V','K8V','K9V',\n",
    "            'M0V','M1V','M2V','M3V','M4V','M5V','M6V'])\n",
    "\n",
    "# Use x as the bin indices\n",
    "x=np.arange(intHK.size)"
   ]
  },
  {
   "cell_type": "markdown",
   "metadata": {
    "collapsed": true
   },
   "source": [
    "We start with a value of R and E(H-K) for the simulated line of sight.  For the spectral type of a background star, these choices for the line of sight imply observed colors.  \n"
   ]
  },
  {
   "cell_type": "code",
   "execution_count": 4,
   "metadata": {},
   "outputs": [
    {
     "name": "stdout",
     "output_type": "stream",
     "text": [
      "Spectral type is  F0V\n"
     ]
    }
   ],
   "source": [
    "# Choose line-of-sight R and E(H-K)\n",
    "losR=1.6\n",
    "losEHK=0.4\n",
    "losEJH=losR*losEHK\n",
    "\n",
    "\n",
    "# Calculate the error-free photometry, all spectral types\n",
    "simJH=losEJH+intJH\n",
    "simHK=losEHK+intHK\n",
    "\n",
    "# Choose spectral type by list index\n",
    "meanbin = 24\n",
    "stdbin = 2   # standard error, in units of number of list items\n",
    "print(\"Spectral type is \",SpType[meanbin])"
   ]
  },
  {
   "cell_type": "markdown",
   "metadata": {},
   "source": [
    "We then simulate uncertainty in observed colors and knowledge of spectral type with Monte Carlo sampling of normal distributions, recalcuating R at each sample.\n"
   ]
  },
  {
   "cell_type": "code",
   "execution_count": 5,
   "metadata": {},
   "outputs": [],
   "source": [
    "# This function creates a set of probabilities, one for each possible spectral type.\n",
    "\n",
    "def prob_bins(x,meanbin,stdbin):\n",
    "    # Create the probability distribution:\n",
    "    lowedge, highedge = np.arange(len(x))-0.5,np.arange(len(x))+0.5 # put items at bin centers\n",
    "    prob_bins = ss.norm.cdf(highedge, loc=meanbin, \n",
    "                            scale = stdbin)-ss.norm.cdf(lowedge, loc=meanbin, scale = stdbin)\n",
    "    prob_bins = prob_bins / prob_bins.sum() # normalize the probabilities so their sum is 1\n",
    "\n",
    "    return prob_bins\n",
    "\n"
   ]
  },
  {
   "cell_type": "code",
   "execution_count": 6,
   "metadata": {},
   "outputs": [
    {
     "name": "stdout",
     "output_type": "stream",
     "text": [
      "mean standard_deviation\n",
      "1.59681247184 0.0318614917479\n",
      "1.59063420402 0.0658529164764\n",
      "1.57048471476 0.131568728103\n"
     ]
    },
    {
     "data": {
      "image/png": "[encoded data removed]",
      "text/plain": [
       "<matplotlib.figure.Figure at 0x1a0d647080>"
      ]
     },
     "metadata": {},
     "output_type": "display_data"
    }
   ],
   "source": [
    "fig,ax=plt.subplots(1,1)\n",
    "\n",
    "print('mean','standard_deviation')\n",
    "\n",
    "for stdbins in [1,2,4]:\n",
    "    # Sample the probability distribution:\n",
    "    prob = prob_bins(x,meanbin,stdbins) # customize the probability distribution\n",
    "    nums = np.random.choice(x, size = 100000, p = prob) # a set of chosen bin indices\n",
    "\n",
    "    R=(simJH[meanbin]-intJH[nums])/(simHK[meanbin]-intHK[nums])\n",
    "    print(np.mean(R),np.std(R))\n",
    "    ax.hist(R,30,range=(0.05,3.05),normed=True,label='$\\pm$'+str(stdbins)+' subclass',alpha=0.6)\n",
    "\n",
    "ax.set_xlabel('R_IR')\n",
    "ax.set_ylabel('Probability density')\n",
    "ax.set_title('R='+str(losR)+', EHK='+str(losEHK)+', sptype='+SpType[meanbin])\n",
    "ax.grid(linestyle='dotted',linewidth=1)\n",
    "ax.set_xlim(.8,2.6)\n",
    "ax.legend(loc='best')\n",
    "plt.show()"
   ]
  },
  {
   "cell_type": "code",
   "execution_count": 7,
   "metadata": {},
   "outputs": [
    {
     "data": {
      "text/plain": [
       "(0.45089000000000001, 0.54910999999999999)"
      ]
     },
     "execution_count": 7,
     "metadata": {},
     "output_type": "execute_result"
    }
   ],
   "source": [
    "np.sum([R<1.6])/1E5,np.sum([R>1.6])/1E5"
   ]
  },
  {
   "cell_type": "code",
   "execution_count": 8,
   "metadata": {},
   "outputs": [
    {
     "data": {
      "text/plain": [
       "(0.17917520517621868, 0.082155369749551191)"
      ]
     },
     "execution_count": 8,
     "metadata": {},
     "output_type": "execute_result"
    }
   ],
   "source": [
    "np.sqrt(np.mean((R[R<1.6]-1.6)**2)),np.sqrt(np.mean((R[R>1.6]-1.6)**2))"
   ]
  },
  {
   "cell_type": "markdown",
   "metadata": {},
   "source": [
    "By introducing an uncertainty in the spectral classes, we have created an uncertainty in R that is comparable in size to the uncertainty introduced by photometry.  This is unsurprising, especially where intrinsic colors in adjacent spectral types differ on the same order as typical uncertainty in measured colors.\n",
    "\n",
    "What may be surprising is the asymmetry of the distribution.  In the example shown here of an F0V type known to within 4 subclasses and E(J-H)=0.4, we can notice the following things:\n",
    "\n",
    "* The most common measurement is R = 1.7, higher than 1.6.\n",
    "* Fewer measurements fall below 1.6 than above 1.6.\n",
    "* The distribution has a broader range below 1.6 than above 1.6.  We see this from the root-mean-square deviation of measurements below R=1.6 versus those above R=1.6.  "
   ]
  },
  {
   "cell_type": "markdown",
   "metadata": {},
   "source": [
    "Astronomers expect a distribution that is symmetric around a mean of 1.6.  Our point in this paper is to warn astronomers about which combinations of reddening and spectral type uncertainty yield shifted, asymetric distributions.\n",
    "\n",
    "Megan's task is to identify where in (<code>losEHK</code>,<code>stdbin</code>) space the distribution is shifted and/or asymetric.  Here is a sample calculation:"
   ]
  },
  {
   "cell_type": "code",
   "execution_count": 9,
   "metadata": {},
   "outputs": [
    {
     "name": "stdout",
     "output_type": "stream",
     "text": [
      "stdbin R_mean std_dev RMS_R<1.6 RMS_R<1.6\n",
      "4 1.57081829215 0.131672002533 0.179093610989 0.082530504032\n"
     ]
    }
   ],
   "source": [
    "# Choose line-of-sight R and E(H-K)\n",
    "losR=1.6\n",
    "losEHK=0.4 # MEGAN CHANGES THIS NUMBER\n",
    "losEJH=losR*losEHK\n",
    "\n",
    "# Calculate the error-free photometry, all spectral types\n",
    "simJH=losEJH+intJH\n",
    "simHK=losEHK+intHK\n",
    "\n",
    "# Choose spectral type by list index\n",
    "meanbin = 24\n",
    "stdbin = 4   # MEGAN CHANGES THIS NUMBER\n",
    "\n",
    "# Sample the probability distribution:\n",
    "# customize the probability distribution\n",
    "prob = prob_bins(x,meanbin,stdbins) \n",
    "# randomly choose a set of bin indices based on that probability\n",
    "nums = np.random.choice(x, size = 100000, p = prob) \n",
    "\n",
    "R=(simJH[meanbin]-intJH[nums])/(simHK[meanbin]-intHK[nums])\n",
    "\n",
    "print('stdbin','R_mean','std_dev','RMS_R<1.6','RMS_R<1.6')\n",
    "print(stdbin,np.mean(R),np.std(R),np.sqrt(np.mean((R[R<1.6]-1.6)**2)),np.sqrt(np.mean((R[R>1.6]-1.6)**2)))"
   ]
  },
  {
   "cell_type": "markdown",
   "metadata": {},
   "source": [
    "We'll need to eventually repeat for all the spectral types, called <code>meanbin</code> here."
   ]
  },
  {
   "cell_type": "code",
   "execution_count": null,
   "metadata": {},
   "outputs": [],
   "source": []
  }
 ],
 "metadata": {
  "kernelspec": {
   "display_name": "Python [default]",
   "language": "python",
   "name": "python3"
  },
  "language_info": {
   "codemirror_mode": {
    "name": "ipython",
    "version": 3
   },
   "file_extension": ".py",
   "mimetype": "text/x-python",
   "name": "python",
   "nbconvert_exporter": "python",
   "pygments_lexer": "ipython3",
   "version": "3.5.4"
  }
 },
 "nbformat": 4,
 "nbformat_minor": 2
}
